{
  "nbformat": 4,
  "nbformat_minor": 0,
  "metadata": {
    "colab": {
      "name": "Fake_news_detection.ipynb",
      "provenance": [],
      "collapsed_sections": []
    },
    "kernelspec": {
      "name": "python3",
      "display_name": "Python 3"
    }
  },
  "cells": [
    {
      "cell_type": "code",
      "metadata": {
        "id": "iWwkSkre8XEg",
        "colab_type": "code",
        "colab": {
          "base_uri": "https://localhost:8080/",
          "height": 35
        },
        "outputId": "63490e3c-4412-4d6e-9b18-38ec35d05745"
      },
      "source": [
        "import pandas as pd\n",
        "import numpy as np\n",
        "import tensorflow as tf\n",
        "tf.__version__"
      ],
      "execution_count": 1,
      "outputs": [
        {
          "output_type": "execute_result",
          "data": {
            "application/vnd.google.colaboratory.intrinsic": {
              "type": "string"
            },
            "text/plain": [
              "'2.2.0'"
            ]
          },
          "metadata": {
            "tags": []
          },
          "execution_count": 1
        }
      ]
    },
    {
      "cell_type": "code",
      "metadata": {
        "id": "0KH52Y-08mhQ",
        "colab_type": "code",
        "colab": {
          "base_uri": "https://localhost:8080/",
          "height": 195
        },
        "outputId": "f58956ab-aeb2-45fe-901f-04ca72610a4e"
      },
      "source": [
        "df = pd.read_csv('https://raw.githubusercontent.com/saadarshad102/Fake-News-Detection-Universal-Sentence-Encoder/master/fake_or_real_news.csv')\n",
        "df.head()"
      ],
      "execution_count": 2,
      "outputs": [
        {
          "output_type": "execute_result",
          "data": {
            "text/html": [
              "<div>\n",
              "<style scoped>\n",
              "    .dataframe tbody tr th:only-of-type {\n",
              "        vertical-align: middle;\n",
              "    }\n",
              "\n",
              "    .dataframe tbody tr th {\n",
              "        vertical-align: top;\n",
              "    }\n",
              "\n",
              "    .dataframe thead th {\n",
              "        text-align: right;\n",
              "    }\n",
              "</style>\n",
              "<table border=\"1\" class=\"dataframe\">\n",
              "  <thead>\n",
              "    <tr style=\"text-align: right;\">\n",
              "      <th></th>\n",
              "      <th>Unnamed: 0</th>\n",
              "      <th>title</th>\n",
              "      <th>text</th>\n",
              "      <th>label</th>\n",
              "    </tr>\n",
              "  </thead>\n",
              "  <tbody>\n",
              "    <tr>\n",
              "      <th>0</th>\n",
              "      <td>8476</td>\n",
              "      <td>You Can Smell Hillary’s Fear</td>\n",
              "      <td>Daniel Greenfield, a Shillman Journalism Fello...</td>\n",
              "      <td>FAKE</td>\n",
              "    </tr>\n",
              "    <tr>\n",
              "      <th>1</th>\n",
              "      <td>10294</td>\n",
              "      <td>Watch The Exact Moment Paul Ryan Committed Pol...</td>\n",
              "      <td>Google Pinterest Digg Linkedin Reddit Stumbleu...</td>\n",
              "      <td>FAKE</td>\n",
              "    </tr>\n",
              "    <tr>\n",
              "      <th>2</th>\n",
              "      <td>3608</td>\n",
              "      <td>Kerry to go to Paris in gesture of sympathy</td>\n",
              "      <td>U.S. Secretary of State John F. Kerry said Mon...</td>\n",
              "      <td>REAL</td>\n",
              "    </tr>\n",
              "    <tr>\n",
              "      <th>3</th>\n",
              "      <td>10142</td>\n",
              "      <td>Bernie supporters on Twitter erupt in anger ag...</td>\n",
              "      <td>— Kaydee King (@KaydeeKing) November 9, 2016 T...</td>\n",
              "      <td>FAKE</td>\n",
              "    </tr>\n",
              "    <tr>\n",
              "      <th>4</th>\n",
              "      <td>875</td>\n",
              "      <td>The Battle of New York: Why This Primary Matters</td>\n",
              "      <td>It's primary day in New York and front-runners...</td>\n",
              "      <td>REAL</td>\n",
              "    </tr>\n",
              "  </tbody>\n",
              "</table>\n",
              "</div>"
            ],
            "text/plain": [
              "   Unnamed: 0  ... label\n",
              "0        8476  ...  FAKE\n",
              "1       10294  ...  FAKE\n",
              "2        3608  ...  REAL\n",
              "3       10142  ...  FAKE\n",
              "4         875  ...  REAL\n",
              "\n",
              "[5 rows x 4 columns]"
            ]
          },
          "metadata": {
            "tags": []
          },
          "execution_count": 2
        }
      ]
    },
    {
      "cell_type": "code",
      "metadata": {
        "id": "VOqR-nju8yz-",
        "colab_type": "code",
        "colab": {
          "base_uri": "https://localhost:8080/",
          "height": 34
        },
        "outputId": "f99cff38-c9f3-489d-d48c-cf980ba6e5fe"
      },
      "source": [
        "df.shape"
      ],
      "execution_count": 3,
      "outputs": [
        {
          "output_type": "execute_result",
          "data": {
            "text/plain": [
              "(6335, 4)"
            ]
          },
          "metadata": {
            "tags": []
          },
          "execution_count": 3
        }
      ]
    },
    {
      "cell_type": "code",
      "metadata": {
        "id": "zpFBc2Qw9PK3",
        "colab_type": "code",
        "colab": {
          "base_uri": "https://localhost:8080/",
          "height": 70
        },
        "outputId": "414c2b42-7104-4383-bb5d-efc6e7e8aa9a"
      },
      "source": [
        "df.label.value_counts()"
      ],
      "execution_count": 4,
      "outputs": [
        {
          "output_type": "execute_result",
          "data": {
            "text/plain": [
              "REAL    3171\n",
              "FAKE    3164\n",
              "Name: label, dtype: int64"
            ]
          },
          "metadata": {
            "tags": []
          },
          "execution_count": 4
        }
      ]
    },
    {
      "cell_type": "code",
      "metadata": {
        "id": "DbAFWrjz9R_-",
        "colab_type": "code",
        "colab": {
          "base_uri": "https://localhost:8080/",
          "height": 34
        },
        "outputId": "14cae901-206a-4781-dc20-47a4d3890506"
      },
      "source": [
        "X = df.text.values\n",
        "y = df.label.values\n",
        "\n",
        "X.shape, y.shape"
      ],
      "execution_count": 5,
      "outputs": [
        {
          "output_type": "execute_result",
          "data": {
            "text/plain": [
              "((6335,), (6335,))"
            ]
          },
          "metadata": {
            "tags": []
          },
          "execution_count": 5
        }
      ]
    },
    {
      "cell_type": "code",
      "metadata": {
        "id": "NdCcaAWrKR5D",
        "colab_type": "code",
        "colab": {}
      },
      "source": [
        "y[np.where(y=='REAL')[0]]=0\n",
        "y[np.where(y=='FAKE')[0]]=1"
      ],
      "execution_count": 6,
      "outputs": []
    },
    {
      "cell_type": "code",
      "metadata": {
        "id": "bVb7X7pYLHkO",
        "colab_type": "code",
        "colab": {
          "base_uri": "https://localhost:8080/",
          "height": 34
        },
        "outputId": "cc3b25cc-02ef-4c78-8c21-3f119a810952"
      },
      "source": [
        "np.unique(y, return_counts=True)"
      ],
      "execution_count": 7,
      "outputs": [
        {
          "output_type": "execute_result",
          "data": {
            "text/plain": [
              "(array([0, 1], dtype=object), array([3171, 3164]))"
            ]
          },
          "metadata": {
            "tags": []
          },
          "execution_count": 7
        }
      ]
    },
    {
      "cell_type": "code",
      "metadata": {
        "id": "OX5vMr_A-Ct0",
        "colab_type": "code",
        "colab": {
          "base_uri": "https://localhost:8080/",
          "height": 34
        },
        "outputId": "c6cb23d1-db8e-4984-fb05-775020929955"
      },
      "source": [
        "# Train test split\n",
        "from sklearn.model_selection import train_test_split\n",
        "X_train, X_test, y_train, y_test = train_test_split(X, y, test_size=0.3, random_state=44)\n",
        "X_test, X_val, y_test, y_val     = train_test_split(X_test, y_test, test_size=0.5, random_state=44 )\n",
        "\n",
        "X_train.shape, X_test.shape, X_val.shape"
      ],
      "execution_count": 8,
      "outputs": [
        {
          "output_type": "execute_result",
          "data": {
            "text/plain": [
              "((4434,), (950,), (951,))"
            ]
          },
          "metadata": {
            "tags": []
          },
          "execution_count": 8
        }
      ]
    },
    {
      "cell_type": "code",
      "metadata": {
        "id": "W1IijjW9_j1f",
        "colab_type": "code",
        "colab": {
          "base_uri": "https://localhost:8080/",
          "height": 34
        },
        "outputId": "82225d06-2b02-40ca-ca70-52cd9d2722f1"
      },
      "source": [
        "oov_tok = \"<OOV>\"\n",
        "EMBEDDING_DIM = 50\n",
        "max_length = max([len(x) for x in X_train])\n",
        "print (max_length)\n",
        "max_length = 1000\n",
        "vocab_size=10000"
      ],
      "execution_count": 9,
      "outputs": [
        {
          "output_type": "stream",
          "text": [
            "115372\n"
          ],
          "name": "stdout"
        }
      ]
    },
    {
      "cell_type": "code",
      "metadata": {
        "id": "5xepUWgK-s28",
        "colab_type": "code",
        "colab": {}
      },
      "source": [
        "from tensorflow.keras.preprocessing.text import Tokenizer \n",
        "from tensorflow.keras.preprocessing.sequence import pad_sequences"
      ],
      "execution_count": 10,
      "outputs": []
    },
    {
      "cell_type": "code",
      "metadata": {
        "id": "_MU4FbBW_wuf",
        "colab_type": "code",
        "colab": {}
      },
      "source": [
        "X_train = [x.lower() for x in X_train]\n",
        "X_test  = [x.lower() for x in X_test]\n",
        "X_val   = [x.lower() for x in X_val]"
      ],
      "execution_count": 11,
      "outputs": []
    },
    {
      "cell_type": "code",
      "metadata": {
        "id": "3GspGok9Dbl_",
        "colab_type": "code",
        "colab": {}
      },
      "source": [
        ""
      ],
      "execution_count": 11,
      "outputs": []
    },
    {
      "cell_type": "code",
      "metadata": {
        "id": "HvJegsBV_DDI",
        "colab_type": "code",
        "colab": {}
      },
      "source": [
        "tokenizer = Tokenizer(num_words=vocab_size, oov_token=oov_tok)\n",
        "tokenizer.fit_on_texts(X_train)\n",
        "\n",
        "train_sequences = tokenizer.texts_to_sequences(X_train)\n",
        "test_sequences  = tokenizer.texts_to_sequences(X_test)\n",
        "val_sequences   = tokenizer.texts_to_sequences(X_val)\n",
        "\n",
        "word_index = tokenizer.word_index\n",
        "\n",
        "train_padded = pad_sequences(train_sequences, padding='post', truncating = 'post', maxlen = max_length)\n",
        "test_padded  = pad_sequences(test_sequences, padding='post', truncating = 'post', maxlen = max_length)\n",
        "val_padded   = pad_sequences(val_sequences, padding='post', truncating = 'post', maxlen = max_length)"
      ],
      "execution_count": 12,
      "outputs": []
    },
    {
      "cell_type": "code",
      "metadata": {
        "id": "cXcXNqqRHw_w",
        "colab_type": "code",
        "colab": {
          "base_uri": "https://localhost:8080/",
          "height": 34
        },
        "outputId": "84db21db-b787-4209-e34f-d546ce1c231b"
      },
      "source": [
        "len(word_index)"
      ],
      "execution_count": 13,
      "outputs": [
        {
          "output_type": "execute_result",
          "data": {
            "text/plain": [
              "80325"
            ]
          },
          "metadata": {
            "tags": []
          },
          "execution_count": 13
        }
      ]
    },
    {
      "cell_type": "code",
      "metadata": {
        "id": "B9DFmTDYAtaa",
        "colab_type": "code",
        "colab": {}
      },
      "source": [
        "train_padded = np.array(train_padded).astype(np.float32)\n",
        "test_padded = np.array(test_padded).astype(np.float32)\n",
        "val_padded = np.array(val_padded).astype(np.float32)\n",
        "\n",
        "y_train = np.array(y_train).astype(np.float32)\n",
        "y_test = np.array(y_test).astype(np.float32)\n",
        "y_val = np.array(y_val).astype(np.float32)"
      ],
      "execution_count": 14,
      "outputs": []
    },
    {
      "cell_type": "code",
      "metadata": {
        "id": "hPAaEFMKLiPu",
        "colab_type": "code",
        "colab": {
          "base_uri": "https://localhost:8080/",
          "height": 34
        },
        "outputId": "37d1ab42-5132-4d69-e11c-bd0bb8bdb6e3"
      },
      "source": [
        "type(y_train)"
      ],
      "execution_count": 15,
      "outputs": [
        {
          "output_type": "execute_result",
          "data": {
            "text/plain": [
              "numpy.ndarray"
            ]
          },
          "metadata": {
            "tags": []
          },
          "execution_count": 15
        }
      ]
    },
    {
      "cell_type": "code",
      "metadata": {
        "id": "ylSUNjFeBCTv",
        "colab_type": "code",
        "colab": {}
      },
      "source": [
        "# Embeddings layer\n",
        "embeddings_index = {}\n",
        "\n",
        "file = open('glove.6B.50d.txt')\n",
        "for each_line in file:\n",
        "  values = each_line.split()\n",
        "  word = values[0]\n",
        "  coefs = np.asarray(values[1:], dtype='float32')\n",
        "  embeddings_index[word] = coefs\n",
        "\n",
        "file.close()"
      ],
      "execution_count": 16,
      "outputs": []
    },
    {
      "cell_type": "code",
      "metadata": {
        "id": "Q5AKX3wgB8Dl",
        "colab_type": "code",
        "colab": {}
      },
      "source": [
        ""
      ],
      "execution_count": 25,
      "outputs": []
    },
    {
      "cell_type": "code",
      "metadata": {
        "id": "5WvKY4BsCA_i",
        "colab_type": "code",
        "colab": {}
      },
      "source": [
        "vocab_size = (len(word_index)+1)\n",
        "embedding_matrix = np.zeros((vocab_size,EMBEDDING_DIM))\n",
        "\n",
        "for word, i in word_index.items():\n",
        "    embedding_vector = embeddings_index.get(word)\n",
        "    if embedding_vector is not None:\n",
        "        embedding_matrix[i] = embeddings_index[word]\n",
        "  "
      ],
      "execution_count": 17,
      "outputs": []
    },
    {
      "cell_type": "code",
      "metadata": {
        "id": "1uoTtK3OFW7X",
        "colab_type": "code",
        "colab": {
          "base_uri": "https://localhost:8080/",
          "height": 34
        },
        "outputId": "b1adc7d7-8559-4246-f614-71e42e88748c"
      },
      "source": [
        "embedding_matrix.shape, len(word_index) + 1, type(embedding_matrix)"
      ],
      "execution_count": 18,
      "outputs": [
        {
          "output_type": "execute_result",
          "data": {
            "text/plain": [
              "((80326, 50), 80326, numpy.ndarray)"
            ]
          },
          "metadata": {
            "tags": []
          },
          "execution_count": 18
        }
      ]
    },
    {
      "cell_type": "code",
      "metadata": {
        "id": "bvrn_qv8NJGM",
        "colab_type": "code",
        "colab": {
          "base_uri": "https://localhost:8080/",
          "height": 34
        },
        "outputId": "944da80f-b664-4642-b571-7f3b82b4a178"
      },
      "source": [
        "train_padded_exp = np.expand_dims(train_padded, -1)\n",
        "test_padded_exp = np.expand_dims(test_padded, -1)\n",
        "train_padded.shape,test_padded.shape"
      ],
      "execution_count": 19,
      "outputs": [
        {
          "output_type": "execute_result",
          "data": {
            "text/plain": [
              "((4434, 1000), (950, 1000))"
            ]
          },
          "metadata": {
            "tags": []
          },
          "execution_count": 19
        }
      ]
    },
    {
      "cell_type": "code",
      "metadata": {
        "id": "Cq0kQiAeCnVm",
        "colab_type": "code",
        "colab": {
          "base_uri": "https://localhost:8080/",
          "height": 298
        },
        "outputId": "3dd2430c-719f-43fc-cd61-ece989d1a61e"
      },
      "source": [
        "# Model\n",
        "\n",
        "#Define embedding_layer\n",
        "model = tf.keras.Sequential([\n",
        "                tf.keras.layers.Embedding(vocab_size, EMBEDDING_DIM, weights=[embedding_matrix], input_length=max_length),#trainable=False\n",
        "                tf.keras.layers.GlobalAveragePooling1D(),\n",
        "                tf.keras.layers.Dense(24, activation='relu'),\n",
        "                tf.keras.layers.Dense(1, activation='sigmoid')\n",
        "])\n",
        "\n",
        "model.compile(loss='binary_crossentropy',metrics=['accuracy'],optimizer='adam')\n",
        "model.summary()"
      ],
      "execution_count": 28,
      "outputs": [
        {
          "output_type": "stream",
          "text": [
            "Model: \"sequential_2\"\n",
            "_________________________________________________________________\n",
            "Layer (type)                 Output Shape              Param #   \n",
            "=================================================================\n",
            "embedding_2 (Embedding)      (None, 1000, 50)          4016300   \n",
            "_________________________________________________________________\n",
            "global_average_pooling1d_1 ( (None, 50)                0         \n",
            "_________________________________________________________________\n",
            "dense_4 (Dense)              (None, 24)                1224      \n",
            "_________________________________________________________________\n",
            "dense_5 (Dense)              (None, 1)                 25        \n",
            "=================================================================\n",
            "Total params: 4,017,549\n",
            "Trainable params: 4,017,549\n",
            "Non-trainable params: 0\n",
            "_________________________________________________________________\n"
          ],
          "name": "stdout"
        }
      ]
    },
    {
      "cell_type": "code",
      "metadata": {
        "id": "w-cJYNsyES5r",
        "colab_type": "code",
        "colab": {
          "base_uri": "https://localhost:8080/",
          "height": 369
        },
        "outputId": "37159236-629d-4c62-d1b2-ff3f9d3a500f"
      },
      "source": [
        "num_epochs = 10\n",
        "history = model.fit(train_padded, \n",
        "                    y_train, \n",
        "                    epochs=num_epochs, \n",
        "                    validation_data=(test_padded, y_test), \n",
        "                    verbose=2)"
      ],
      "execution_count": 29,
      "outputs": [
        {
          "output_type": "stream",
          "text": [
            "Epoch 1/10\n",
            "139/139 - 7s - loss: 0.6221 - accuracy: 0.6622 - val_loss: 0.5725 - val_accuracy: 0.7137\n",
            "Epoch 2/10\n",
            "139/139 - 8s - loss: 0.5118 - accuracy: 0.7684 - val_loss: 0.4544 - val_accuracy: 0.8295\n",
            "Epoch 3/10\n",
            "139/139 - 7s - loss: 0.4106 - accuracy: 0.8270 - val_loss: 0.3633 - val_accuracy: 0.8589\n",
            "Epoch 4/10\n",
            "139/139 - 7s - loss: 0.3331 - accuracy: 0.8595 - val_loss: 0.3085 - val_accuracy: 0.8663\n",
            "Epoch 5/10\n",
            "139/139 - 7s - loss: 0.2744 - accuracy: 0.8793 - val_loss: 0.2624 - val_accuracy: 0.8884\n",
            "Epoch 6/10\n",
            "139/139 - 7s - loss: 0.2283 - accuracy: 0.9039 - val_loss: 0.2332 - val_accuracy: 0.8895\n",
            "Epoch 7/10\n",
            "139/139 - 6s - loss: 0.1936 - accuracy: 0.9260 - val_loss: 0.2096 - val_accuracy: 0.9105\n",
            "Epoch 8/10\n",
            "139/139 - 8s - loss: 0.1658 - accuracy: 0.9411 - val_loss: 0.1938 - val_accuracy: 0.9179\n",
            "Epoch 9/10\n",
            "139/139 - 7s - loss: 0.1423 - accuracy: 0.9533 - val_loss: 0.1797 - val_accuracy: 0.9253\n",
            "Epoch 10/10\n",
            "139/139 - 9s - loss: 0.1237 - accuracy: 0.9605 - val_loss: 0.1709 - val_accuracy: 0.9326\n"
          ],
          "name": "stdout"
        }
      ]
    },
    {
      "cell_type": "code",
      "metadata": {
        "id": "bHrVsLrEJ7Sw",
        "colab_type": "code",
        "colab": {
          "base_uri": "https://localhost:8080/",
          "height": 34
        },
        "outputId": "32ca93d7-eb5c-4a18-cb59-db9503e645de"
      },
      "source": [
        "  type(train_padded), type(y_train),type(test_padded), type(y_test)"
      ],
      "execution_count": 31,
      "outputs": [
        {
          "output_type": "execute_result",
          "data": {
            "text/plain": [
              "(numpy.ndarray, numpy.ndarray, numpy.ndarray, numpy.ndarray)"
            ]
          },
          "metadata": {
            "tags": []
          },
          "execution_count": 31
        }
      ]
    },
    {
      "cell_type": "code",
      "metadata": {
        "id": "jGeHQcSaLaI4",
        "colab_type": "code",
        "colab": {}
      },
      "source": [
        ""
      ],
      "execution_count": 35,
      "outputs": []
    },
    {
      "cell_type": "code",
      "metadata": {
        "id": "CGhaS-WrMr33",
        "colab_type": "code",
        "colab": {}
      },
      "source": [
        ""
      ],
      "execution_count": 35,
      "outputs": []
    },
    {
      "cell_type": "code",
      "metadata": {
        "id": "6chtyPIdNEJq",
        "colab_type": "code",
        "colab": {}
      },
      "source": [
        ""
      ],
      "execution_count": null,
      "outputs": []
    }
  ]
}